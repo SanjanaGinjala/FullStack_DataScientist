{
 "cells": [
  {
   "cell_type": "code",
   "execution_count": 1,
   "id": "c6b9e5d7",
   "metadata": {},
   "outputs": [
    {
     "name": "stdout",
     "output_type": "stream",
     "text": [
      "total count of words 664\n"
     ]
    }
   ],
   "source": [
    "file = open(\"week2.txt\", 'r', encoding='utf-8')\n",
    "try:\n",
    "    content = file.read()\n",
    "    words=content.split()\n",
    "    print(\"total count of words\",len(words))\n",
    "except Exception as e:\n",
    "    print(\"an error occured \",e)\n",
    "finally:\n",
    "    file.close()\n"
   ]
  },
  {
   "cell_type": "code",
   "execution_count": 4,
   "id": "82a3c440",
   "metadata": {},
   "outputs": [
    {
     "name": "stdout",
     "output_type": "stream",
     "text": [
      "The password  %2jiHH8dkj is Strong\n"
     ]
    }
   ],
   "source": [
    "def password_validator(st):\n",
    "    if(len(st)<8):\n",
    "        return False\n",
    "    has_digit=False\n",
    "    has_lower=False\n",
    "    has_upper=False\n",
    "    has_special=False\n",
    "    for ch in st:\n",
    "        if ch.islower():\n",
    "            has_lower=True\n",
    "        if ch.isupper():\n",
    "            has_upper=True\n",
    "        if ch.isdigit():\n",
    "            has_digit=True\n",
    "        else:\n",
    "            has_special=True\n",
    "    return has_special and has_digit and has_upper and has_lower\n",
    "st=\"%2jiHH8dkj\"\n",
    "if(password_validator(st)): \n",
    "    print(\"The password \",st,\"is Strong\")\n",
    "else:\n",
    "    print(\"The password \",st,\"is not Strong\")\n"
   ]
  },
  {
   "cell_type": "code",
   "execution_count": 11,
   "id": "f9cd871d",
   "metadata": {},
   "outputs": [
    {
     "name": "stdout",
     "output_type": "stream",
     "text": [
      "Error Found  float division by zero\n"
     ]
    }
   ],
   "source": [
    "try:\n",
    "    a, b, op = input(\"Enter: a b operator (e.g., 10 5 +): \").split()\n",
    "    a=float(a)\n",
    "    b=float(b)\n",
    "\n",
    "    match op:\n",
    "        case '+':\n",
    "            print(\"Addition: \", a + b)\n",
    "        case '-':\n",
    "            print(\"Subtraction: \", a - b)\n",
    "        case '*':\n",
    "            print(\"Multiplication: \", a * b)\n",
    "        case '/':\n",
    "            print(\"Division: \", a / b)\n",
    "        case _:\n",
    "            print(\"Invalid operator\")\n",
    "\n",
    "except Exception as e:\n",
    "    print(\"Error Found \",e)\n"
   ]
  },
  {
   "cell_type": "code",
   "execution_count": 13,
   "id": "40bc5f77",
   "metadata": {},
   "outputs": [
    {
     "name": "stdout",
     "output_type": "stream",
     "text": [
      "Duplicate name found : sanj\n"
     ]
    }
   ],
   "source": [
    "def duplicate_name(li):\n",
    "    for i in range(len(li)):\n",
    "        for j in range(i+1,len(li)):\n",
    "            if li[i] == li[j]:\n",
    "                print(\"Duplicate name found :\",li[i])\n",
    "    return\n",
    "duplicate_name(['sanj','varsh','harsh','sanj'])"
   ]
  },
  {
   "cell_type": "code",
   "execution_count": 16,
   "id": "726aac62",
   "metadata": {},
   "outputs": [
    {
     "name": "stdout",
     "output_type": "stream",
     "text": [
      "Choose an option:\n",
      "1. Celsius to Fahrenheit\n",
      "2. Fahrenheit to Celsius\n",
      "Temperature in Fahrenheit is: 89.6\n"
     ]
    }
   ],
   "source": [
    "def cel_far(c):\n",
    "    f = c * (9/5) + 32\n",
    "    print(\"Temperature in Fahrenheit is:\", f)\n",
    "    return\n",
    "\n",
    "def far_cel(f):\n",
    "    c = (f - 32) * (5/9)\n",
    "    print(\"Temperature in Celsius is:\", c)\n",
    "    return\n",
    "\n",
    "print(\"Choose an option:\")\n",
    "print(\"1. Celsius to Fahrenheit\")\n",
    "print(\"2. Fahrenheit to Celsius\")\n",
    "\n",
    "temp = int(input(\"Select an option (1 or 2): \"))\n",
    "\n",
    "if temp == 1:\n",
    "    cel_far(float(input(\"Enter the temperature in Celsius: \")))\n",
    "elif temp == 2:\n",
    "    far_cel(float(input(\"Enter the temperature in Fahrenheit: \")))\n",
    "else:\n",
    "    print(\"Invalid option\")\n"
   ]
  },
  {
   "cell_type": "code",
   "execution_count": 19,
   "id": "881da2c6",
   "metadata": {},
   "outputs": [
    {
     "name": "stdout",
     "output_type": "stream",
     "text": [
      "The largest number in given list is 90\n"
     ]
    }
   ],
   "source": [
    "def largest_num(li):\n",
    "    li.sort()\n",
    "    return li[len(li)-1]\n",
    "print(\"The largest number in given list is\",largest_num([10,90,22,32]))"
   ]
  },
  {
   "cell_type": "code",
   "execution_count": 20,
   "id": "8825b891",
   "metadata": {},
   "outputs": [
    {
     "name": "stdout",
     "output_type": "stream",
     "text": [
      "Calculated Simple Interest is: 40.0\n"
     ]
    }
   ],
   "source": [
    "p=int(input(\"Enter p: \"))\n",
    "t=int(input(\"Enter t: \"))\n",
    "r=int(input(\"Enter r: \"))\n",
    "si=(p*t*r)/100\n",
    "print(\"Calculated Simple Interest is:\",si)"
   ]
  },
  {
   "cell_type": "code",
   "execution_count": 29,
   "id": "10e8750c",
   "metadata": {},
   "outputs": [
    {
     "data": {
      "text/plain": [
       "{'varsh': 67, 'harsh': 70}"
      ]
     },
     "execution_count": 29,
     "metadata": {},
     "output_type": "execute_result"
    }
   ],
   "source": [
    "def defaulters(di):\n",
    "    dict={}\n",
    "    for student in di:\n",
    "        if di[student]<75:\n",
    "            dict[student]=di[student]\n",
    "    return dict\n",
    "dict={\"sanj\":90,\"varsh\":67,\"harsh\":70}\n",
    "defaulters(dict)\n"
   ]
  },
  {
   "cell_type": "code",
   "execution_count": 22,
   "id": "ef3a0b22",
   "metadata": {},
   "outputs": [
    {
     "name": "stdout",
     "output_type": "stream",
     "text": [
      "sum of digits in  1234  is 10\n"
     ]
    }
   ],
   "source": [
    "def digit_sum(num):\n",
    "    sum=0\n",
    "    while num>0:\n",
    "        dig=num%10\n",
    "        sum+=dig\n",
    "        num//=10\n",
    "    return sum\n",
    "num=1234\n",
    "print(\"sum of digits in \",num,\" is\",digit_sum(num))"
   ]
  },
  {
   "cell_type": "code",
   "execution_count": 24,
   "id": "33bea4e8",
   "metadata": {},
   "outputs": [
    {
     "name": "stdout",
     "output_type": "stream",
     "text": [
      "20  is not a prime number\n",
      "13  is a prime number\n"
     ]
    }
   ],
   "source": [
    "import math\n",
    "def prime(n):\n",
    "    flag=True\n",
    "    for i in range(2,int(math.sqrt(n))+1):\n",
    "        if(n%i==0):\n",
    "            flag=False\n",
    "            break\n",
    "    if flag:\n",
    "        print(n,\" is a prime number\")\n",
    "    else:\n",
    "        print(n,\" is not a prime number\")\n",
    "    return\n",
    "prime(20)\n",
    "prime(13)"
   ]
  },
  {
   "cell_type": "code",
   "execution_count": 25,
   "id": "00ad3457",
   "metadata": {},
   "outputs": [
    {
     "name": "stdout",
     "output_type": "stream",
     "text": [
      "The largest number in given list is  90\n",
      "The Smallest number in given list is  10\n"
     ]
    }
   ],
   "source": [
    "def largest_num(li):\n",
    "    li.sort()\n",
    "    print(\"The largest number in given list is \",li[len(li)-1])\n",
    "    print(\"The Smallest number in given list is \",li[0])\n",
    "    return\n",
    "largest_num([10,90,22,32])"
   ]
  },
  {
   "cell_type": "code",
   "execution_count": 27,
   "id": "d086fd29",
   "metadata": {},
   "outputs": [
    {
     "name": "stdout",
     "output_type": "stream",
     "text": [
      "Total sum is :  420\n",
      "Total sum is :  190\n"
     ]
    }
   ],
   "source": [
    "def total_bill(di):\n",
    "    sum=0\n",
    "    for key in di:\n",
    "        sum+=di[key]\n",
    "    print(\"Total sum is : \",sum)\n",
    "    return \n",
    "Basket= {\"onion\": 100, \"dal\": 180, \"rice\": 140}\n",
    "Basket2 = dict(banana=50, mango=90,grapes=50)\n",
    "\n",
    "total_bill(Basket)\n",
    "total_bill(Basket2)"
   ]
  },
  {
   "cell_type": "code",
   "execution_count": 30,
   "id": "16054965",
   "metadata": {},
   "outputs": [
    {
     "name": "stdout",
     "output_type": "stream",
     "text": [
      "Largest number is: 70.0\n"
     ]
    }
   ],
   "source": [
    "a = float(input(\"Enter first number: \"))\n",
    "b = float(input(\"Enter second number: \"))\n",
    "c = float(input(\"Enter third number: \"))\n",
    "\n",
    "largest = max(a, b, c)\n",
    "print(\"Largest number is:\", largest)\n"
   ]
  },
  {
   "cell_type": "code",
   "execution_count": 31,
   "id": "ad0a3f4f",
   "metadata": {},
   "outputs": [
    {
     "name": "stdout",
     "output_type": "stream",
     "text": [
      "Sorted names: ['Anu', 'Sahaas', 'Sanjana', 'Varsha']\n"
     ]
    }
   ],
   "source": [
    "names = [\"Sanjana\", \"Varsha\", \"Sahaas\", \"Anu\"]\n",
    "names.sort()\n",
    "print(\"Sorted names:\", names)\n"
   ]
  },
  {
   "cell_type": "code",
   "execution_count": 32,
   "id": "5eb081ab",
   "metadata": {},
   "outputs": [
    {
     "name": "stdout",
     "output_type": "stream",
     "text": [
      "Reversed number: 20089\n"
     ]
    }
   ],
   "source": [
    "num = input(\"Enter a number: \")\n",
    "reversed_num = num[::-1]\n",
    "print(\"Reversed number:\", reversed_num)\n"
   ]
  },
  {
   "cell_type": "code",
   "execution_count": 33,
   "id": "19191303",
   "metadata": {},
   "outputs": [
    {
     "name": "stdout",
     "output_type": "stream",
     "text": [
      "Positive numbers: 3\n",
      "Negative numbers: 2\n",
      "Zeroes: 2\n"
     ]
    }
   ],
   "source": [
    "numbers = [10, -5, 0, 23, -8, 0, 7]\n",
    "\n",
    "positive = 0\n",
    "negative = 0\n",
    "zero = 0\n",
    "\n",
    "for num in numbers:\n",
    "    if num > 0:\n",
    "        positive += 1\n",
    "    elif num < 0:\n",
    "        negative += 1\n",
    "    else:\n",
    "        zero += 1\n",
    "\n",
    "print(\"Positive numbers:\", positive)\n",
    "print(\"Negative numbers:\", negative)\n",
    "print(\"Zeroes:\", zero)\n"
   ]
  },
  {
   "cell_type": "code",
   "execution_count": 4,
   "id": "55c691f4",
   "metadata": {},
   "outputs": [
    {
     "name": "stdout",
     "output_type": "stream",
     "text": [
      "total bill: 2400\n"
     ]
    }
   ],
   "source": [
    "def electricity_bill(n):\n",
    "    total = 0\n",
    "    if n <= 100:\n",
    "        total = n * 5\n",
    "    elif n <= 200:\n",
    "        total = 100 * 5 + (n - 100) * 7\n",
    "    else:\n",
    "        total = 100 * 5 + 100 * 7 + (n - 200) * 10\n",
    "    return total\n",
    "\n",
    "units = 320\n",
    "print(\"total bill:\", electricity_bill(units))\n"
   ]
  },
  {
   "cell_type": "code",
   "execution_count": 6,
   "id": "6c729284",
   "metadata": {},
   "outputs": [
    {
     "name": "stdout",
     "output_type": "stream",
     "text": [
      "The pin entered is true\n"
     ]
    }
   ],
   "source": [
    "org_pin=1234\n",
    "for i in range(3):\n",
    "    pin=int(input(\"Enter pin\"))\n",
    "    if(org_pin==pin):\n",
    "        print(\"The pin entered is true\")\n",
    "        break"
   ]
  },
  {
   "cell_type": "code",
   "execution_count": null,
   "id": "3c403a86",
   "metadata": {},
   "outputs": [
    {
     "name": "stdout",
     "output_type": "stream",
     "text": [
      "Division by zero is not allowed \n"
     ]
    }
   ],
   "source": [
    "a=float(input(\"Enter a: \"))\n",
    "b=float(input(\"Enter b: \"))\n",
    "try:\n",
    "    res=a/b\n",
    "except ZeroDivisionError:\n",
    "    print(\"Division by zero is not allowed \")"
   ]
  },
  {
   "cell_type": "code",
   "execution_count": 8,
   "id": "8f624044",
   "metadata": {},
   "outputs": [
    {
     "name": "stdout",
     "output_type": "stream",
     "text": [
      "Enter valid number\n"
     ]
    }
   ],
   "source": [
    "try:\n",
    "    a=float(input(\"Enter a: \"))\n",
    "    b=float(input(\"Enter b: \"))\n",
    "    res=a/b \n",
    "except ZeroDivisionError:\n",
    "    print(\"Division by zero is not allowed \")\n",
    "except ValueError:\n",
    "    print(\"Enter valid number\")\n"
   ]
  },
  {
   "cell_type": "code",
   "execution_count": 10,
   "id": "7dbad68b",
   "metadata": {},
   "outputs": [
    {
     "name": "stdout",
     "output_type": "stream",
     "text": [
      "Enter withdrawal amount <= balance\n"
     ]
    }
   ],
   "source": [
    "balance=10000\n",
    "withdrawal=int(input(\"Enter withdrawal amount\"))\n",
    "class NoBalance(Exception):\n",
    "    pass\n",
    "try:\n",
    "    if(withdrawal>balance):\n",
    "        raise NoBalance\n",
    "    else:\n",
    "        print(\"Withdrawal succesfull and balance amount is \",balance-withdrawal)\n",
    "except NoBalance:\n",
    "    print(\"Enter withdrawal amount <= balance\")"
   ]
  },
  {
   "cell_type": "code",
   "execution_count": 11,
   "id": "b3685d20",
   "metadata": {},
   "outputs": [
    {
     "name": "stdout",
     "output_type": "stream",
     "text": [
      "Total bill: 2400\n",
      "Bill processing finished\n"
     ]
    }
   ],
   "source": [
    "def electricity_bill(n):\n",
    "    total = 0\n",
    "    if n <= 100:\n",
    "        total = n * 5\n",
    "    elif n <= 200:\n",
    "        total = 100 * 5 + (n - 100) * 7\n",
    "    else:\n",
    "        total = 100 * 5 + 100 * 7 + (n - 200) * 10\n",
    "    return total\n",
    "\n",
    "try:\n",
    "    units = int(input(\"Enter number of units: \"))\n",
    "    if units < 0:\n",
    "        raise ValueError(\"Units cannot be negative\")\n",
    "    print(\"Total bill:\", electricity_bill(units))\n",
    "except ValueError as e:\n",
    "    print(\"Invalid input:\", e)\n",
    "finally:\n",
    "    print(\"Bill processing finished\")\n"
   ]
  }
 ],
 "metadata": {
  "kernelspec": {
   "display_name": "Python 3",
   "language": "python",
   "name": "python3"
  },
  "language_info": {
   "codemirror_mode": {
    "name": "ipython",
    "version": 3
   },
   "file_extension": ".py",
   "mimetype": "text/x-python",
   "name": "python",
   "nbconvert_exporter": "python",
   "pygments_lexer": "ipython3",
   "version": "3.11.13"
  }
 },
 "nbformat": 4,
 "nbformat_minor": 5
}
