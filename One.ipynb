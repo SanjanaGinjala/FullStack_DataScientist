{
 "cells": [
  {
   "cell_type": "code",
   "execution_count": 9,
   "metadata": {},
   "outputs": [
    {
     "name": "stdout",
     "output_type": "stream",
     "text": [
      "i i h\n"
     ]
    }
   ],
   "source": [
    "a=input(\"String= \")\n",
    "b=reversed(a)\n",
    "b=' '.join(b)\n",
    "print(b)"
   ]
  },
  {
   "cell_type": "code",
   "execution_count": 22,
   "metadata": {},
   "outputs": [
    {
     "name": "stdout",
     "output_type": "stream",
     "text": [
      "153  is amstrong\n"
     ]
    }
   ],
   "source": [
    "n=int(input(\"n= \"))\n",
    "ne=n\n",
    "res=0\n",
    "while(n>0):\n",
    "    dig=n%10\n",
    "    res+=dig*dig*dig\n",
    "    n//=10\n",
    "if res==ne:\n",
    "    print(ne,\" is amstrong\")\n",
    "else:\n",
    "    print(\"not amstrong\")\n"
   ]
  },
  {
   "cell_type": "code",
   "execution_count": 33,
   "metadata": {},
   "outputs": [
    {
     "name": "stdout",
     "output_type": "stream",
     "text": [
      "Vowels:  2  Consonents:  1\n"
     ]
    }
   ],
   "source": [
    "ap=input(\"\")\n",
    "ai=ap.lower()\n",
    "c=0\n",
    "v=0\n",
    "for a in ai:\n",
    "    if a in 'aeiou':\n",
    "        v=v+1\n",
    "    else:\n",
    "        c=c+1\n",
    "print(\"Vowels: \",v,\" Consonents: \",c)\n"
   ]
  },
  {
   "cell_type": "code",
   "execution_count": 36,
   "metadata": {},
   "outputs": [
    {
     "name": "stdout",
     "output_type": "stream",
     "text": [
      "3 * 1 =  3\n",
      "3 * 2 =  6\n",
      "3 * 3 =  9\n",
      "3 * 4 =  12\n",
      "3 * 5 =  15\n",
      "3 * 6 =  18\n",
      "3 * 7 =  21\n",
      "3 * 8 =  24\n",
      "3 * 9 =  27\n",
      "3 * 10 =  30\n"
     ]
    }
   ],
   "source": [
    "n=int(input(\"n= \"))\n",
    "for i in range(1,11):\n",
    "    print(n,\"*\",i,\"= \",n*i)"
   ]
  },
  {
   "cell_type": "code",
   "execution_count": 42,
   "metadata": {},
   "outputs": [
    {
     "name": "stdout",
     "output_type": "stream",
     "text": [
      "2024  is a leap year\n"
     ]
    }
   ],
   "source": [
    "n=int(input(\"n= \"))\n",
    "if n%4==0 and n%100!=0 or n%400==0:\n",
    "    \n",
    "    print(n,\" is a leap year\")\n",
    "else:\n",
    "    print(n,\" is not a leap year\")\n"
   ]
  },
  {
   "cell_type": "code",
   "execution_count": 46,
   "metadata": {},
   "outputs": [
    {
     "name": "stdout",
     "output_type": "stream",
     "text": [
      "6\n"
     ]
    }
   ],
   "source": [
    "a=[]\n",
    "for i in range(5):\n",
    "    ele=int(input())\n",
    "    a.append(ele)\n",
    "print(max(a))\n",
    "\n",
    "\n",
    "\n"
   ]
  },
  {
   "cell_type": "code",
   "execution_count": 49,
   "metadata": {},
   "outputs": [
    {
     "name": "stdout",
     "output_type": "stream",
     "text": [
      "factorial of  3  is  6\n"
     ]
    }
   ],
   "source": [
    "n=int(input())\n",
    "res=1\n",
    "for i in range(1,n+1):\n",
    "    res=res*i\n",
    "print(\"factorial of \",n,\" is \",res)"
   ]
  },
  {
   "cell_type": "code",
   "execution_count": 50,
   "metadata": {},
   "outputs": [
    {
     "name": "stdout",
     "output_type": "stream",
     "text": [
      "The string is a palindrome.\n"
     ]
    }
   ],
   "source": [
    "\n",
    "str= input(\"Enter a string: \")\n",
    "if str == str[::-1]:\n",
    "    print(\"The string is a palindrome.\")\n",
    "else:\n",
    "    print(\"The string is not a palindrome.\")\n"
   ]
  },
  {
   "cell_type": "code",
   "execution_count": 44,
   "metadata": {},
   "outputs": [
    {
     "name": "stdout",
     "output_type": "stream",
     "text": [
      "15\n",
      "30\n",
      "45\n",
      "60\n",
      "75\n",
      "90\n"
     ]
    }
   ],
   "source": [
    "\n",
    "for i in range(1,100):\n",
    "    if i%3==0 and i%5==0:\n",
    "        print(i)"
   ]
  },
  {
   "cell_type": "code",
   "execution_count": 4,
   "metadata": {},
   "outputs": [
    {
     "name": "stdout",
     "output_type": "stream",
     "text": [
      "20   10\n"
     ]
    }
   ],
   "source": [
    "a=int(input(\"a= \"))\n",
    "b=int(input(\"b= \"))\n",
    "a=a+b\n",
    "b=a-b\n",
    "a=a-b\n",
    "print(a,\" \",b)\n"
   ]
  }
 ],
 "metadata": {
  "kernelspec": {
   "display_name": "Python 3",
   "language": "python",
   "name": "python3"
  },
  "language_info": {
   "codemirror_mode": {
    "name": "ipython",
    "version": 3
   },
   "file_extension": ".py",
   "mimetype": "text/x-python",
   "name": "python",
   "nbconvert_exporter": "python",
   "pygments_lexer": "ipython3",
   "version": "3.11.0"
  }
 },
 "nbformat": 4,
 "nbformat_minor": 2
}
