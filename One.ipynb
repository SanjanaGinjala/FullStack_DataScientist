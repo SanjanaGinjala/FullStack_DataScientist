{
 "cells": [
  {
   "cell_type": "code",
   "execution_count": 24,
   "id": "6c74e30f",
   "metadata": {},
   "outputs": [
    {
     "name": "stdout",
     "output_type": "stream",
     "text": [
      "200\n"
     ]
    }
   ],
   "source": [
    "n=int(input())\n",
    "total=0\n",
    "for i in range(n):\n",
    "    i1=int(input(\"Enter no of items: \"))\n",
    "    p1=int(input(\"Enter price\"))\n",
    "    total+=i1*p1\n",
    "print(total)"
   ]
  },
  {
   "cell_type": "code",
   "execution_count": 1,
   "id": "995e7338",
   "metadata": {},
   "outputs": [
    {
     "name": "stdout",
     "output_type": "stream",
     "text": [
      "Addition =  30\n",
      "Subtraction =  -10\n",
      "Multiplication =  200\n",
      "Division =  0.5\n",
      "Modulus =  10\n"
     ]
    }
   ],
   "source": [
    "a=int(input(\"Enter first number: \"))\n",
    "b=int(input(\"Enter second number: \"))\n",
    "print(\"Addition = \",a+b)\n",
    "print(\"Subtraction = \",a-b)\n",
    "print(\"Multiplication = \",a*b)\n",
    "print(\"Division = \",a/b)\n",
    "print(\"Modulus = \",a%b)"
   ]
  },
  {
   "cell_type": "code",
   "execution_count": null,
   "id": "867f6e28",
   "metadata": {},
   "outputs": [
    {
     "name": "stdout",
     "output_type": "stream",
     "text": [
      "A +\n"
     ]
    }
   ],
   "source": [
    "m=int(input(\"Enter marks: \"))\n",
    "if(m>=90):\n",
    "    print(\"A +\")\n",
    "elif(m>=80 and m<=89):\n",
    "    print(\"A\")\n",
    "elif(m>=60 and m<=69):\n",
    "    print(\"B\")\n",
    "elif(m<60):\n",
    "    print(\"Fail\")"
   ]
  },
  {
   "cell_type": "code",
   "execution_count": null,
   "id": "9009dacd",
   "metadata": {},
   "outputs": [
    {
     "name": "stdout",
     "output_type": "stream",
     "text": [
      "Highest number = 90\n",
      "Lowest number = 11\n",
      "Average = 41.0\n"
     ]
    }
   ],
   "source": [
    "ar = []\n",
    "\n",
    "for i in range(5):\n",
    "    val = int(input(\"Enter element: \"))\n",
    "    ar.append(val)\n",
    "ar.sort()\n",
    "\n",
    "highest = ar[-1]\n",
    "lowest = ar[0]\n",
    "total = 0\n",
    "for x in ar:\n",
    "    total += x\n",
    "\n",
    "average = total / len(ar)\n",
    "\n",
    "print(\"Highest number =\", highest)\n",
    "print(\"Lowest number =\", lowest)\n",
    "print(\"Average =\", average)\n"
   ]
  },
  {
   "cell_type": "code",
   "execution_count": 22,
   "id": "1af2dc91",
   "metadata": {},
   "outputs": [
    {
     "name": "stdout",
     "output_type": "stream",
     "text": [
      "phone number of  vena  is 6329930200\n"
     ]
    }
   ],
   "source": [
    "Phonebook = {}\n",
    "n=int(input())\n",
    "for i in range(n):\n",
    "    n=input()\n",
    "    v=int(input())\n",
    "    Phonebook[n]=v\n",
    "name=input(\"Enter name: \")\n",
    "if(name in Phonebook):\n",
    "    print(\"phone number of \",name,\" is\",Phonebook[name])"
   ]
  }
 ],
 "metadata": {
  "kernelspec": {
   "display_name": "Python 3",
   "language": "python",
   "name": "python3"
  },
  "language_info": {
   "codemirror_mode": {
    "name": "ipython",
    "version": 3
   },
   "file_extension": ".py",
   "mimetype": "text/x-python",
   "name": "python",
   "nbconvert_exporter": "python",
   "pygments_lexer": "ipython3",
   "version": "3.11.13"
  }
 },
 "nbformat": 4,
 "nbformat_minor": 5
}
