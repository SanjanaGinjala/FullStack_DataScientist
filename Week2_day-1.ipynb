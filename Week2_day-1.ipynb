{
 "cells": [
  {
   "cell_type": "code",
   "execution_count": null,
   "id": "d2b3295b",
   "metadata": {},
   "outputs": [
    {
     "name": "stdout",
     "output_type": "stream",
     "text": [
      "5 7 11 13 17 19 "
     ]
    }
   ],
   "source": [
    "\"\"\"1. Prime Number Finder\"\"\"\n",
    "import math\n",
    "def prime(n):\n",
    "    for i in range(2,n+1):\n",
    "        flag=False\n",
    "        for j in range(2,int(math.sqrt(n))+1):\n",
    "            if(i%j==0):\n",
    "                flag=True\n",
    "                break\n",
    "        if not flag:\n",
    "            print(i,end=\" \")\n",
    "    return\n",
    "prime(20)"
   ]
  },
  {
   "cell_type": "code",
   "execution_count": null,
   "id": "c41da250",
   "metadata": {},
   "outputs": [
    {
     "name": "stdout",
     "output_type": "stream",
     "text": [
      "Never odd or even  is a palindrome\n",
      "Hello World  is not a palindrome\n"
     ]
    }
   ],
   "source": [
    "\"\"\"2. Palindrome Checker\"\"\"\n",
    "def palindrome(st):\n",
    "    s=st.replace(\" \",\"\").lower()\n",
    "    nstr=s[::-1]\n",
    "    if(s == nstr):\n",
    "        print(st,\" is a palindrome\")\n",
    "    else:\n",
    "        print(st,\" is not a palindrome\")\n",
    "    return\n",
    "palindrome(\"Never odd or even\")\n",
    "palindrome(\"Hello World\")"
   ]
  },
  {
   "cell_type": "code",
   "execution_count": null,
   "id": "207117dc",
   "metadata": {},
   "outputs": [
    {
     "data": {
      "text/plain": [
       "True"
      ]
     },
     "execution_count": 5,
     "metadata": {},
     "output_type": "execute_result"
    }
   ],
   "source": [
    "'''3. Anagram Checker'''\n",
    "def anagrams(st1,st2):\n",
    "    st1=st1.replace(\" \",\"\").lower()\n",
    "    st2=st2.replace(\" \",\"\").lower()\n",
    "    return sorted(st1)==sorted(st2)\n",
    "anagrams(\"listen\",\"silent\")"
   ]
  },
  {
   "cell_type": "code",
   "execution_count": null,
   "id": "1db67626",
   "metadata": {},
   "outputs": [
    {
     "name": "stdout",
     "output_type": "stream",
     "text": [
      "Vowel Count:  2  Consonant Count:  3\n"
     ]
    }
   ],
   "source": [
    "'''4. Count Vowels & Consonants'''\n",
    "def VowCon(st):\n",
    "    st=st.lower()\n",
    "    vcnt=0\n",
    "    ccnt=0\n",
    "    for ch in st:\n",
    "        if ch.isalpha():\n",
    "            if ch in 'aeiou':\n",
    "                vcnt+=1\n",
    "            else:\n",
    "                ccnt+=1\n",
    "    print(\"Vowel Count: \",vcnt,\" Consonant Count: \",ccnt)\n",
    "    return\n",
    "VowCon('Hello')"
   ]
  },
  {
   "cell_type": "code",
   "execution_count": null,
   "id": "9ee91507",
   "metadata": {},
   "outputs": [
    {
     "name": "stdout",
     "output_type": "stream",
     "text": [
      "amazing is the Longest substring of Length: 7\n"
     ]
    }
   ],
   "source": [
    "'''5. Longest Word Finder'''\n",
    "import math\n",
    "def LongString(st):\n",
    "    s=st.split(\" \")\n",
    "    long=0\n",
    "    for w in s:\n",
    "        if len(w)>long:\n",
    "            long=len(w)\n",
    "    print(w,\"is the Longest substring of Length:\",long)\n",
    "    return\n",
    "LongString(\"Python is amazing\")"
   ]
  },
  {
   "cell_type": "code",
   "execution_count": null,
   "id": "596a7486",
   "metadata": {},
   "outputs": [
    {
     "name": "stdout",
     "output_type": "stream",
     "text": [
      "Random Password: p-!z>f\n",
      "Random Password: Ox4Vn5qSKd\n"
     ]
    }
   ],
   "source": [
    "'''Random Password Generator'''\n",
    "import random\n",
    "import string\n",
    "\n",
    "def generate_password(length=6):\n",
    "    ch= string.ascii_letters + string.digits + string.punctuation\n",
    "    \n",
    "    # Randomly choose 'length' characters\n",
    "    password = ''.join(random.choice(ch) for _ in range(length))\n",
    "    \n",
    "    return password\n",
    "\n",
    "# Example\n",
    "print(\"Random Password:\", generate_password(6))\n",
    "print(\"Random Password:\", generate_password(10))\n"
   ]
  },
  {
   "cell_type": "code",
   "execution_count": null,
   "id": "d8725182",
   "metadata": {},
   "outputs": [
    {
     "name": "stdout",
     "output_type": "stream",
     "text": [
      "5.0\n",
      "120\n",
      "0.49999999999999994\n",
      "0.5000000000000001\n"
     ]
    }
   ],
   "source": [
    "'''Simple Calculator with `math`'''\n",
    "import math\n",
    "\n",
    "def calculator(choice, num):\n",
    "    match choice:\n",
    "        case \"sqrt\":\n",
    "            return math.sqrt(num)\n",
    "        case \"factorial\":\n",
    "            return math.factorial(int(num))\n",
    "        case \"sin\":\n",
    "            return math.sin(math.radians(num))\n",
    "        case \"cos\":\n",
    "            return math.cos(math.radians(num))\n",
    "        case _:\n",
    "            return \"Invalid choice!\"\n",
    "print(calculator(\"sqrt\", 25))\n",
    "print(calculator(\"factorial\", 5))\n",
    "print(calculator(\"sin\", 30))\n",
    "print(calculator(\"cos\", 60))\n"
   ]
  },
  {
   "cell_type": "code",
   "execution_count": 22,
   "id": "94b8a838",
   "metadata": {},
   "outputs": [
    {
     "data": {
      "text/plain": [
       "{'cat': 2, 'dog': 1}"
      ]
     },
     "execution_count": 22,
     "metadata": {},
     "output_type": "execute_result"
    }
   ],
   "source": [
    "def word_freq(St):\n",
    "    words=St.split()\n",
    "    dict={}\n",
    "    for w in words:\n",
    "        if w in dict:\n",
    "            dict[w]+=1\n",
    "        else:\n",
    "            dict[w]=1\n",
    "    return dict\n",
    "word_freq(\"cat dog cat\")"
   ]
  },
  {
   "cell_type": "code",
   "execution_count": 23,
   "id": "35e46fcc",
   "metadata": {},
   "outputs": [
    {
     "name": "stdout",
     "output_type": "stream",
     "text": [
      "5\n",
      "4\n",
      "3\n",
      "2\n",
      "1\n",
      "Time's up\n"
     ]
    }
   ],
   "source": [
    "import time\n",
    "def Countdown(n):\n",
    "    while(n>0):\n",
    "        print(n)\n",
    "        time.sleep(1)\n",
    "        n-=1\n",
    "    print(\"Time's up\")\n",
    "    return\n",
    "Countdown(5)"
   ]
  },
  {
   "cell_type": "code",
   "execution_count": 24,
   "id": "90fa187c",
   "metadata": {},
   "outputs": [
    {
     "name": "stdout",
     "output_type": "stream",
     "text": [
      "Weather: Sunny, Temp: 40°C\n",
      "Weather: Rainy, Temp: 23°C\n",
      "Weather: Sunny, Temp: 29°C\n",
      "Weather: Sunny, Temp: 38°C\n",
      "Weather: Rainy, Temp: 28°C\n"
     ]
    }
   ],
   "source": [
    "import random\n",
    "\n",
    "def weather_simulator():\n",
    "    conditions = [\"Sunny\", \"Cloudy\", \"Rainy\", \"Windy\", \"Stormy\"]\n",
    "    weights = [0.4, 0.25, 0.2, 0.1, 0.05]\n",
    "    condition = random.choices(conditions, weights=weights, k=1)[0]\n",
    "    if condition == \"Sunny\":\n",
    "        temperature = random.randint(28, 40)\n",
    "    elif condition == \"Cloudy\":\n",
    "        temperature = random.randint(22, 32)\n",
    "    elif condition == \"Rainy\":\n",
    "        temperature = random.randint(20, 28)\n",
    "    elif condition == \"Windy\":\n",
    "        temperature = random.randint(18, 30)\n",
    "    else:\n",
    "        temperature = random.randint(16, 25)\n",
    "\n",
    "    return f\"Weather: {condition}, Temp: {temperature}°C\"\n",
    "for _ in range(5):\n",
    "    print(weather_simulator())\n"
   ]
  }
 ],
 "metadata": {
  "kernelspec": {
   "display_name": "Python 3",
   "language": "python",
   "name": "python3"
  },
  "language_info": {
   "codemirror_mode": {
    "name": "ipython",
    "version": 3
   },
   "file_extension": ".py",
   "mimetype": "text/x-python",
   "name": "python",
   "nbconvert_exporter": "python",
   "pygments_lexer": "ipython3",
   "version": "3.11.13"
  }
 },
 "nbformat": 4,
 "nbformat_minor": 5
}
