{
 "cells": [
  {
   "cell_type": "code",
   "execution_count": null,
   "id": "d2b3295b",
   "metadata": {},
   "outputs": [
    {
     "name": "stdout",
     "output_type": "stream",
     "text": [
      "5 7 11 13 17 19 "
     ]
    }
   ],
   "source": [
    "\"\"\"1. Prime Number Finder\"\"\"\n",
    "import math\n",
    "def prime(n):\n",
    "    for i in range(2,n+1):\n",
    "        flag=False\n",
    "        for j in range(2,int(math.sqrt(n))+1):\n",
    "            if(i%j==0):\n",
    "                flag=True\n",
    "                break\n",
    "        if not flag:\n",
    "            print(i,end=\" \")\n",
    "    return\n",
    "prime(20)"
   ]
  },
  {
   "cell_type": "code",
   "execution_count": null,
   "id": "c41da250",
   "metadata": {},
   "outputs": [
    {
     "name": "stdout",
     "output_type": "stream",
     "text": [
      "Never odd or even  is a palindrome\n",
      "Hello World  is not a palindrome\n"
     ]
    }
   ],
   "source": [
    "\"\"\"2. Palindrome Checker\"\"\"\n",
    "def palindrome(st):\n",
    "    s=st.replace(\" \",\"\").lower()\n",
    "    nstr=s[::-1]\n",
    "    if(s == nstr):\n",
    "        print(st,\" is a palindrome\")\n",
    "    else:\n",
    "        print(st,\" is not a palindrome\")\n",
    "    return\n",
    "palindrome(\"Never odd or even\")\n",
    "palindrome(\"Hello World\")"
   ]
  },
  {
   "cell_type": "code",
   "execution_count": null,
   "id": "207117dc",
   "metadata": {},
   "outputs": [
    {
     "data": {
      "text/plain": [
       "True"
      ]
     },
     "execution_count": 5,
     "metadata": {},
     "output_type": "execute_result"
    }
   ],
   "source": [
    "'''3. Anagram Checker'''\n",
    "def anagrams(st1,st2):\n",
    "    st1=st1.replace(\" \",\"\").lower()\n",
    "    st2=st2.replace(\" \",\"\").lower()\n",
    "    return sorted(st1)==sorted(st2)\n",
    "anagrams(\"listen\",\"silent\")"
   ]
  },
  {
   "cell_type": "code",
   "execution_count": null,
   "id": "1db67626",
   "metadata": {},
   "outputs": [
    {
     "name": "stdout",
     "output_type": "stream",
     "text": [
      "Vowel Count:  2  Consonant Count:  3\n"
     ]
    }
   ],
   "source": [
    "'''4. Count Vowels & Consonants'''\n",
    "def VowCon(st):\n",
    "    st=st.lower()\n",
    "    vcnt=0\n",
    "    ccnt=0\n",
    "    for ch in st:\n",
    "        if ch.isalpha():\n",
    "            if ch in 'aeiou':\n",
    "                vcnt+=1\n",
    "            else:\n",
    "                ccnt+=1\n",
    "    print(\"Vowel Count: \",vcnt,\" Consonant Count: \",ccnt)\n",
    "    return\n",
    "VowCon('Hello')"
   ]
  },
  {
   "cell_type": "code",
   "execution_count": null,
   "id": "9ee91507",
   "metadata": {},
   "outputs": [
    {
     "name": "stdout",
     "output_type": "stream",
     "text": [
      "amazing is the Longest substring of Length: 7\n"
     ]
    }
   ],
   "source": [
    "'''5. Longest Word Finder'''\n",
    "import math\n",
    "def LongString(st):\n",
    "    s=st.split(\" \")\n",
    "    long=0\n",
    "    for w in s:\n",
    "        if len(w)>long:\n",
    "            long=len(w)\n",
    "    print(w,\"is the Longest substring of Length:\",long)\n",
    "    return\n",
    "LongString(\"Python is amazing\")"
   ]
  },
  {
   "cell_type": "code",
   "execution_count": null,
   "id": "596a7486",
   "metadata": {},
   "outputs": [
    {
     "name": "stdout",
     "output_type": "stream",
     "text": [
      "Random Password: p-!z>f\n",
      "Random Password: Ox4Vn5qSKd\n"
     ]
    }
   ],
   "source": [
    "'''Random Password Generator'''\n",
    "import random\n",
    "import string\n",
    "\n",
    "def generate_password(length=6):\n",
    "    ch= string.ascii_letters + string.digits + string.punctuation\n",
    "    \n",
    "    # Randomly choose 'length' characters\n",
    "    password = ''.join(random.choice(ch) for _ in range(length))\n",
    "    \n",
    "    return password\n",
    "\n",
    "# Example\n",
    "print(\"Random Password:\", generate_password(6))\n",
    "print(\"Random Password:\", generate_password(10))\n"
   ]
  },
  {
   "cell_type": "code",
   "execution_count": null,
   "id": "d8725182",
   "metadata": {},
   "outputs": [
    {
     "name": "stdout",
     "output_type": "stream",
     "text": [
      "5.0\n",
      "120\n",
      "0.49999999999999994\n",
      "0.5000000000000001\n"
     ]
    }
   ],
   "source": [
    "'''Simple Calculator with `math`'''\n",
    "import math\n",
    "\n",
    "def calculator(choice, num):\n",
    "    match choice:\n",
    "        case \"sqrt\":\n",
    "            return math.sqrt(num)\n",
    "        case \"factorial\":\n",
    "            return math.factorial(int(num))\n",
    "        case \"sin\":\n",
    "            return math.sin(math.radians(num))\n",
    "        case \"cos\":\n",
    "            return math.cos(math.radians(num))\n",
    "        case _:\n",
    "            return \"Invalid choice!\"\n",
    "print(calculator(\"sqrt\", 25))\n",
    "print(calculator(\"factorial\", 5))\n",
    "print(calculator(\"sin\", 30))\n",
    "print(calculator(\"cos\", 60))\n"
   ]
  },
  {
   "cell_type": "code",
   "execution_count": null,
   "id": "94b8a838",
   "metadata": {},
   "outputs": [
    {
     "data": {
      "text/plain": [
       "{'cat': 2, 'dog': 1}"
      ]
     },
     "execution_count": 22,
     "metadata": {},
     "output_type": "execute_result"
    }
   ],
   "source": [
    "'''Word Frequency Counter'''\n",
    "from collections import Counter\n",
    "\n",
    "def word_freq(st):\n",
    "    words = st.split()\n",
    "    return Counter(words)\n",
    "\n",
    "print(word_freq(\"cat dog cat\"))"
   ]
  },
  {
   "cell_type": "code",
   "execution_count": null,
   "id": "35e46fcc",
   "metadata": {},
   "outputs": [
    {
     "name": "stdout",
     "output_type": "stream",
     "text": [
      "5\n",
      "4\n",
      "3\n",
      "2\n",
      "1\n",
      "Time's up\n"
     ]
    }
   ],
   "source": [
    "'''Timer Program (`time`)'''\n",
    "import time\n",
    "def Countdown(n):\n",
    "    while(n>0):\n",
    "        print(n)\n",
    "        time.sleep(1)\n",
    "        n-=1\n",
    "    print(\"Time's up\")\n",
    "    return\n",
    "Countdown(5)"
   ]
  },
  {
   "cell_type": "code",
   "execution_count": null,
   "id": "90fa187c",
   "metadata": {},
   "outputs": [
    {
     "name": "stdout",
     "output_type": "stream",
     "text": [
      "Weather: Sunny, Temp: 40°C\n",
      "Weather: Rainy, Temp: 23°C\n",
      "Weather: Sunny, Temp: 29°C\n",
      "Weather: Sunny, Temp: 38°C\n",
      "Weather: Rainy, Temp: 28°C\n"
     ]
    }
   ],
   "source": [
    "'''Weather Simulator (`random`)'''\n",
    "import random\n",
    "\n",
    "def weather_simulator():\n",
    "    conditions = [\"Sunny\", \"Cloudy\", \"Rainy\", \"Windy\", \"Stormy\"]\n",
    "    weights = [0.4, 0.25, 0.2, 0.1, 0.05]\n",
    "    condition = random.choices(conditions, weights=weights, k=1)[0]\n",
    "    if condition == \"Sunny\":\n",
    "        temperature = random.randint(28, 40)\n",
    "    elif condition == \"Cloudy\":\n",
    "        temperature = random.randint(22, 32)\n",
    "    elif condition == \"Rainy\":\n",
    "        temperature = random.randint(20, 28)\n",
    "    elif condition == \"Windy\":\n",
    "        temperature = random.randint(18, 30)\n",
    "    else:\n",
    "        temperature = random.randint(16, 25)\n",
    "\n",
    "    return f\"Weather: {condition}, Temp: {temperature}°C\"\n",
    "for _ in range(5):\n",
    "    print(weather_simulator())\n"
   ]
  },
  {
   "cell_type": "code",
   "execution_count": null,
   "id": "51b235bc",
   "metadata": {},
   "outputs": [
    {
     "name": "stdout",
     "output_type": "stream",
     "text": [
      "Deposited: 50\n",
      "Withdrawn: 30\n",
      "Balance: 120\n"
     ]
    }
   ],
   "source": [
    "class BankAccount:\n",
    "    def __init__(self, balance=0, owner=\"Unknown\"):\n",
    "        self.balance = balance\n",
    "        self.owner = owner\n",
    "\n",
    "    def deposit(self, amount):\n",
    "        if amount > 0:\n",
    "            self.balance += amount\n",
    "            print(f\"Deposited: {amount}\")\n",
    "        else:\n",
    "            print(\"Deposit amount must be positive\")\n",
    "\n",
    "    def withdraw(self, amount):\n",
    "        if amount > self.balance:\n",
    "            print(\"Insufficient funds\")\n",
    "        elif amount <= 0:\n",
    "            print(\"Withdraw amount must be positive\")\n",
    "        else:\n",
    "            self.balance -= amount\n",
    "            print(f\"Withdrawn: {amount}\")\n",
    "\n",
    "    def get_balance(self):\n",
    "        return f\"Balance: {self.balance}\"\n",
    "acc = BankAccount(100, \"Ram\")   \n",
    "acc.deposit(50)                   \n",
    "acc.withdraw(30)                  \n",
    "print(acc.get_balance())          \n"
   ]
  },
  {
   "cell_type": "code",
   "execution_count": null,
   "id": "01c466b3",
   "metadata": {},
   "outputs": [
    {
     "name": "stdout",
     "output_type": "stream",
     "text": [
      "85.0\n",
      "95\n"
     ]
    }
   ],
   "source": [
    "class Student:\n",
    "    def __init__(self, name, marks):\n",
    "        self.name = name\n",
    "        self.marks = marks\n",
    "\n",
    "    def get_average(self):\n",
    "        return sum(self.marks) / len(self.marks)\n",
    "\n",
    "    def add_mark(self, mark):\n",
    "        self.marks.append(mark)\n",
    "\n",
    "    def get_highest(self):\n",
    "        return max(self.marks)\n",
    "\n",
    "    def get_lowest(self):\n",
    "        return min(self.marks)\n",
    "\n",
    "\n",
    "s = Student(\"Tom\", [90, 80, 85])\n",
    "print(s.get_average())   \n",
    "s.add_mark(95)\n",
    "print(s.get_highest())   \n"
   ]
  },
  {
   "cell_type": "code",
   "execution_count": null,
   "id": "a651e161",
   "metadata": {},
   "outputs": [
    {
     "name": "stdout",
     "output_type": "stream",
     "text": [
      "10000.0\n"
     ]
    }
   ],
   "source": [
    "class Employee:\n",
    "    def __init__(self, name, salary):\n",
    "        self.name = name\n",
    "        self.salary = salary\n",
    "\n",
    "    def bonus(self):\n",
    "        return 0\n",
    "\n",
    "\n",
    "class Manager(Employee):\n",
    "    def bonus(self):\n",
    "        return self.salary * 0.20\n",
    "\n",
    "\n",
    "class Developer(Employee):\n",
    "    def bonus(self):\n",
    "        return self.salary * 0.10\n",
    "\n",
    "\n",
    "class Intern(Employee):\n",
    "    def bonus(self):\n",
    "        return self.salary * 0.05\n",
    "\n",
    "\n",
    "m = Manager(\"Alice\", 50000)\n",
    "print(m.bonus()) \n"
   ]
  },
  {
   "cell_type": "code",
   "execution_count": null,
   "id": "67365b90",
   "metadata": {},
   "outputs": [
    {
     "name": "stdout",
     "output_type": "stream",
     "text": [
      "153.94\n",
      "20\n"
     ]
    }
   ],
   "source": [
    "import math\n",
    "\n",
    "class Shape:\n",
    "    def __init__(self, name):\n",
    "        self.name = name\n",
    "\n",
    "    def area(self):\n",
    "        raise NotImplementedError(\"Subclasses must implement area method\")\n",
    "\n",
    "\n",
    "class Circle(Shape):\n",
    "    def __init__(self, radius):\n",
    "        super().__init__(\"Circle\")\n",
    "        self.radius = radius\n",
    "\n",
    "    def area(self):\n",
    "        return round(math.pi * self.radius ** 2, 2)\n",
    "\n",
    "\n",
    "class Rectangle(Shape):\n",
    "    def __init__(self, width, height):\n",
    "        super().__init__(\"Rectangle\")\n",
    "        self.width = width\n",
    "        self.height = height\n",
    "\n",
    "    def area(self):\n",
    "        return self.width * self.height\n",
    "\n",
    "\n",
    "c = Circle(7)\n",
    "print(c.area())    \n",
    "r = Rectangle(4, 5)\n",
    "print(r.area())   \n"
   ]
  },
  {
   "cell_type": "code",
   "execution_count": null,
   "id": "9355de68",
   "metadata": {},
   "outputs": [
    {
     "name": "stdout",
     "output_type": "stream",
     "text": [
      "Total = 2000\n"
     ]
    }
   ],
   "source": [
    "class Order:\n",
    "    def __init__(self):\n",
    "        self.items = {}\n",
    "\n",
    "    def add(self, item, price):\n",
    "        self.items[item] = price\n",
    "\n",
    "    def remove(self, item):\n",
    "        if item in self.items:\n",
    "            del self.items[item]\n",
    "\n",
    "    def calculate_total(self):\n",
    "        total = sum(self.items.values())\n",
    "        return f\"Total = {total}\"\n",
    "\n",
    "    def show_items(self):\n",
    "        for item, price in self.items.items():\n",
    "            print(f\"{item}: {price}\")\n",
    "            \n",
    "order = Order()\n",
    "order.add(\"Shirt\", 500)\n",
    "order.add(\"Shoes\", 1500)\n",
    "print(order.calculate_total())\n"
   ]
  },
  {
   "cell_type": "code",
   "execution_count": 8,
   "id": "035f9ddf",
   "metadata": {},
   "outputs": [
    {
     "name": "stdout",
     "output_type": "stream",
     "text": [
      "0 1 1 2 3 "
     ]
    }
   ],
   "source": [
    "def finbonacci(n):\n",
    "    a=0\n",
    "    b=1\n",
    "    while(n>0):\n",
    "        print(a,end=\" \")\n",
    "        temp=a+b\n",
    "        a=b\n",
    "        b=temp\n",
    "        n-=1\n",
    "    return\n",
    "finbonacci(5)"
   ]
  },
  {
   "cell_type": "code",
   "execution_count": 12,
   "id": "7a309945",
   "metadata": {},
   "outputs": [
    {
     "name": "stdout",
     "output_type": "stream",
     "text": [
      "120\n"
     ]
    }
   ],
   "source": [
    "def factorial(n):\n",
    "    if(n==0 or n==1):\n",
    "        return 1\n",
    "    res=n*factorial(n-1)\n",
    "    return res\n",
    "print(factorial(5))"
   ]
  },
  {
   "cell_type": "code",
   "execution_count": 16,
   "id": "cff9339a",
   "metadata": {},
   "outputs": [
    {
     "data": {
      "text/plain": [
       "{'apple': 2, 'banana': 2, 'mango': 1}"
      ]
     },
     "execution_count": 16,
     "metadata": {},
     "output_type": "execute_result"
    }
   ],
   "source": [
    "def word_freq(st):\n",
    "    dict={}\n",
    "    words=st.split(\" \")\n",
    "    for word in words:\n",
    "        if word in dict:\n",
    "            dict[word]+=1\n",
    "        else:\n",
    "            dict[word]=1\n",
    "    return dict\n",
    "word_freq(\"apple banana apple mango banana\")\n",
    "\n",
    "\n"
   ]
  },
  {
   "cell_type": "code",
   "execution_count": 17,
   "id": "7d09ed2e",
   "metadata": {},
   "outputs": [
    {
     "name": "stdout",
     "output_type": "stream",
     "text": [
      "A\n"
     ]
    }
   ],
   "source": [
    "def calculate_grade(marks):\n",
    "    avg = sum(marks) / len(marks)\n",
    "    \n",
    "    if avg >= 90:\n",
    "        grade = 'A+'\n",
    "    elif avg >= 80:\n",
    "        grade = 'A'\n",
    "    elif avg >= 70:\n",
    "        grade = 'B'\n",
    "    elif avg >= 60:\n",
    "        grade = 'C'\n",
    "    elif avg >= 50:\n",
    "        grade = 'D'\n",
    "    else:\n",
    "        grade = 'F'\n",
    "    \n",
    "    return grade\n",
    "marks = [85, 90, 78]\n",
    "print(calculate_grade(marks))\n"
   ]
  },
  {
   "cell_type": "code",
   "execution_count": 19,
   "id": "4cb892f3",
   "metadata": {},
   "outputs": [
    {
     "name": "stdout",
     "output_type": "stream",
     "text": [
      "10\n"
     ]
    }
   ],
   "source": [
    "def second_largest(numbers):\n",
    "    if len(numbers) < 2:\n",
    "        return None\n",
    "    unique = list(set(numbers))\n",
    "    if len(unique) < 2:\n",
    "        return None\n",
    "    unique.sort(reverse=True)\n",
    "    return unique[1]\n",
    "numbers = [10, 5, 20, 8]\n",
    "print(second_largest(numbers))\n"
   ]
  },
  {
   "cell_type": "code",
   "execution_count": 23,
   "id": "366c6637",
   "metadata": {},
   "outputs": [
    {
     "name": "stdout",
     "output_type": "stream",
     "text": [
      "['week2.txt', 'Week2_day-1.ipynb']\n",
      "Text files:  1\n",
      "Python files:  0\n"
     ]
    }
   ],
   "source": [
    "import os\n",
    "files = os.listdir('.')\n",
    "print(files)\n",
    "txt_count = 0\n",
    "py_count = 0\n",
    "for file in files:\n",
    "    if file.endswith('.txt'):\n",
    "        txt_count += 1\n",
    "    elif file.endswith('.py'):\n",
    "        py_count += 1\n",
    "print(\"Text files: \",txt_count)\n",
    "print(\"Python files: \",py_count)\n"
   ]
  },
  {
   "cell_type": "code",
   "execution_count": 24,
   "id": "bfe39b17",
   "metadata": {},
   "outputs": [
    {
     "name": "stdout",
     "output_type": "stream",
     "text": [
      "Mean = 87.86\n",
      "Median = 90\n",
      "Variance = 73.81\n"
     ]
    }
   ],
   "source": [
    "import statistics\n",
    "Scores = [75, 80, 90, 100, 85, 90, 95]\n",
    "mean_score = statistics.mean(Scores)\n",
    "median_score = statistics.median(Scores)\n",
    "variance_score = statistics.variance(Scores)\n",
    "print(f\"Mean = {mean_score:.2f}\")\n",
    "print(f\"Median = {median_score}\")\n",
    "print(f\"Variance = {variance_score:.2f}\")"
   ]
  },
  {
   "cell_type": "code",
   "execution_count": 27,
   "id": "4969a345",
   "metadata": {},
   "outputs": [
    {
     "name": "stdout",
     "output_type": "stream",
     "text": [
      "Sum = 0\n"
     ]
    }
   ],
   "source": [
    "import sys\n",
    "args = sys.argv[1:]\n",
    "\n",
    "numbers = [int(x) for x in args if x.isdigit()]\n",
    "\n",
    "total = sum(numbers)\n",
    "print(f\"Sum = {total}\")\n"
   ]
  },
  {
   "cell_type": "code",
   "execution_count": 28,
   "id": "39c9d643",
   "metadata": {},
   "outputs": [
    {
     "name": "stdout",
     "output_type": "stream",
     "text": [
      "You borrowed Python 101\n",
      "You returned Python 101\n",
      "Available books: {'Python 101': 3, 'Data Science': 2}\n"
     ]
    }
   ],
   "source": [
    "class Library:\n",
    "    def __init__(self, books):\n",
    "        self.books = books\n",
    "\n",
    "    def borrow(self, title):\n",
    "        if title in self.books and self.books[title] > 0:\n",
    "            self.books[title] -= 1\n",
    "            return f\"You borrowed {title}\"\n",
    "        return f\"{title} not available\"\n",
    "\n",
    "    def return_book(self, title):\n",
    "        if title in self.books:\n",
    "            self.books[title] += 1\n",
    "        else:\n",
    "            self.books[title] = 1\n",
    "        return f\"You returned {title}\"\n",
    "\n",
    "    def show_books(self):\n",
    "        print(f\"Available books: {self.books}\")\n",
    "lib = Library({\"Python 101\": 3, \"Data Science\": 2})\n",
    "print(lib.borrow(\"Python 101\"))\n",
    "print(lib.return_book(\"Python 101\"))\n",
    "lib.show_books()\n"
   ]
  },
  {
   "cell_type": "code",
   "execution_count": null,
   "id": "276c6566",
   "metadata": {},
   "outputs": [
    {
     "name": "stdout",
     "output_type": "stream",
     "text": [
      "Access Granted\n",
      "Deposited 200\n",
      "Withdrew 100\n",
      "Balance: 600\n"
     ]
    }
   ],
   "source": [
    "class ATM:\n",
    "    def __init__(self, pin, balance=0):\n",
    "        self.pin = pin\n",
    "        self.balance = balance\n",
    "        self.is_authenticated = False\n",
    "\n",
    "    def login(self, pin):\n",
    "        if pin == self.pin:\n",
    "            self.is_authenticated = True\n",
    "            return \"Access Granted\"\n",
    "        return \"Invalid PIN\"\n",
    "\n",
    "    def check_balance(self):\n",
    "        if self.is_authenticated:\n",
    "            return f\"Balance: {self.balance}\"\n",
    "        return \"Please login first\"\n",
    "\n",
    "    def deposit(self, amount):\n",
    "        if self.is_authenticated:\n",
    "            self.balance += amount\n",
    "            return f\"Deposited {amount}\"\n",
    "        return \"Please login first\"\n",
    "\n",
    "    def withdraw(self, amount):\n",
    "        if self.is_authenticated:\n",
    "            if amount <= self.balance:\n",
    "                self.balance -= amount\n",
    "                return f\"Withdrew {amount}\"\n",
    "            return \"Insufficient funds\"\n",
    "        return \"Please login first\"\n",
    "\n",
    "atm = ATM(1234, 500)\n",
    "print(atm.login(1234))\n",
    "print(atm.deposit(200))\n",
    "print(atm.withdraw(100))\n",
    "print(atm.check_balance())\n",
    "\n"
   ]
  },
  {
   "cell_type": "code",
   "execution_count": null,
   "id": "dd8502a8",
   "metadata": {},
   "outputs": [
    {
     "name": "stdout",
     "output_type": "stream",
     "text": [
      "Dr. Smith is teaching Python\n",
      "Alice enrolled in Python\n",
      "Dr. Smith assigned: Project 1\n",
      "Alice submitted: Project 1\n"
     ]
    }
   ],
   "source": [
    "class Professor:\n",
    "    def __init__(self, name, subject):\n",
    "        self.name = name\n",
    "        self.subject = subject\n",
    "\n",
    "    def teach(self, course):\n",
    "        return f\"{self.name} is teaching {course}\"\n",
    "\n",
    "    def give_assignment(self, task):\n",
    "        return f\"{self.name} assigned: {task}\"\n",
    "\n",
    "\n",
    "class Student:\n",
    "    def __init__(self, name):\n",
    "        self.name = name\n",
    "        self.courses = []\n",
    "        self.assignments = []\n",
    "\n",
    "    def enroll(self, course):\n",
    "        self.courses.append(course)\n",
    "        return f\"{self.name} enrolled in {course}\"\n",
    "\n",
    "    def submit_assignment(self, task):\n",
    "        self.assignments.append(task)\n",
    "        return f\"{self.name} submitted: {task}\"\n",
    "    \n",
    "prof = Professor(\"Dr. Smith\", \"Computer Science\")\n",
    "stud = Student(\"Alice\")\n",
    "print(prof.teach(\"Python\"))\n",
    "print(stud.enroll(\"Python\"))\n",
    "print(prof.give_assignment(\"Project 1\"))\n",
    "print(stud.submit_assignment(\"Project 1\"))\n"
   ]
  },
  {
   "cell_type": "code",
   "execution_count": null,
   "id": "53566bdf",
   "metadata": {},
   "outputs": [
    {
     "name": "stdout",
     "output_type": "stream",
     "text": [
      "Booked 2 tickets for Avatar\n",
      "Cancelled 1 ticket for Avatar\n",
      "Movies: {'Avatar': 9, 'Batman': 5}\n"
     ]
    }
   ],
   "source": [
    "class Cinema:\n",
    "    def __init__(self, movies):\n",
    "        self.movies = movies\n",
    "\n",
    "    def book(self, movie, seats):\n",
    "        if movie in self.movies and self.movies[movie] >= seats:\n",
    "            self.movies[movie] -= seats\n",
    "            return f\"Booked {seats} tickets for {movie}\"\n",
    "        return f\"Not enough seats for {movie}\"\n",
    "\n",
    "    def cancel(self, movie, seats):\n",
    "        if movie in self.movies:\n",
    "            self.movies[movie] += seats\n",
    "            return f\"Cancelled {seats} ticket for {movie}\"\n",
    "        return f\"{movie} not found\"\n",
    "\n",
    "    def show_movies(self):\n",
    "        print(f\"Movies: {self.movies}\")\n",
    "cinema = Cinema({\"Avatar\": 10, \"Batman\": 5})\n",
    "print(cinema.book(\"Avatar\", 2))\n",
    "print(cinema.cancel(\"Avatar\", 1))\n",
    "cinema.show_movies()\n"
   ]
  },
  {
   "cell_type": "code",
   "execution_count": null,
   "id": "87d4778e",
   "metadata": {},
   "outputs": [
    {
     "name": "stdout",
     "output_type": "stream",
     "text": [
      "Burger added\n",
      "Pizza added\n",
      "Pizza price updated to 250\n",
      "Burger removed\n",
      "Menu: {'Pizza': 250}\n"
     ]
    }
   ],
   "source": [
    "class Menu:\n",
    "    def __init__(self):\n",
    "        self.items = {}\n",
    "\n",
    "    def add_item(self, name, price):\n",
    "        self.items[name] = price\n",
    "        return f\"{name} added\"\n",
    "\n",
    "    def remove_item(self, name):\n",
    "        if name in self.items:\n",
    "            del self.items[name]\n",
    "            return f\"{name} removed\"\n",
    "        return f\"{name} not found\"\n",
    "\n",
    "    def update_price(self, name, new_price):\n",
    "        if name in self.items:\n",
    "            self.items[name] = new_price\n",
    "            return f\"{name} price updated to {new_price}\"\n",
    "        return f\"{name} not found\"\n",
    "\n",
    "    def show_menu(self):\n",
    "        print(f\"Menu: {self.items}\")\n",
    "menu = Menu()\n",
    "print(menu.add_item(\"Burger\", 100))\n",
    "print(menu.add_item(\"Pizza\", 200))\n",
    "print(menu.update_price(\"Pizza\", 250))\n",
    "print(menu.remove_item(\"Burger\"))\n",
    "menu.show_menu()\n"
   ]
  },
  {
   "cell_type": "code",
   "execution_count": null,
   "id": "b6a7e79f",
   "metadata": {},
   "outputs": [],
   "source": []
  }
 ],
 "metadata": {
  "kernelspec": {
   "display_name": "Python 3",
   "language": "python",
   "name": "python3"
  },
  "language_info": {
   "codemirror_mode": {
    "name": "ipython",
    "version": 3
   },
   "file_extension": ".py",
   "mimetype": "text/x-python",
   "name": "python",
   "nbconvert_exporter": "python",
   "pygments_lexer": "ipython3",
   "version": "3.11.13"
  }
 },
 "nbformat": 4,
 "nbformat_minor": 5
}
